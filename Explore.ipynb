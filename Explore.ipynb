{
 "cells": [
  {
   "cell_type": "markdown",
   "metadata": {},
   "source": [
    "## To-do\n",
    "- Transforming some numerical variables that seem really categorical\n",
    "- Label Encoding categorical variables that may contain information in their ordering set\n"
   ]
  },
  {
   "cell_type": "code",
   "execution_count": 1,
   "metadata": {},
   "outputs": [],
   "source": [
    "import pandas as pd\n",
    "import numpy as np\n",
    "import matplotlib.pyplot as plt\n",
    "%matplotlib inline\n",
    "import seaborn as sns\n",
    "\n",
    "import util_michael as util_m\n",
    "from util import *"
   ]
  },
  {
   "cell_type": "code",
   "execution_count": 2,
   "metadata": {},
   "outputs": [],
   "source": [
    "def print_full(x):\n",
    "    pd.set_option('display.max_rows', len(x))\n",
    "    display(x)\n",
    "    pd.reset_option('display.max_rows')"
   ]
  },
  {
   "cell_type": "code",
   "execution_count": 3,
   "metadata": {},
   "outputs": [
    {
     "data": {
      "text/plain": [
       "((1460, 78), (1459, 77))"
      ]
     },
     "execution_count": 3,
     "metadata": {},
     "output_type": "execute_result"
    }
   ],
   "source": [
    "train = pd.read_csv('./data/cl_train.csv', na_filter=False) \n",
    "test = pd.read_csv('./data/cl_test.csv', na_filter=False)\n",
    "# na_filter set to False because some cells have the 'NA' value which is a valid input\n",
    "brk = train.shape[0]\n",
    "train.shape, test.shape"
   ]
  },
  {
   "cell_type": "code",
   "execution_count": 4,
   "metadata": {},
   "outputs": [
    {
     "data": {
      "text/plain": [
       "(2919, 78)"
      ]
     },
     "execution_count": 4,
     "metadata": {},
     "output_type": "execute_result"
    }
   ],
   "source": [
    "comb = pd.concat([train, test], ignore_index=True, sort=False)\n",
    "comb.shape"
   ]
  },
  {
   "cell_type": "markdown",
   "metadata": {},
   "source": [
    "* Check that all features are complete"
   ]
  },
  {
   "cell_type": "code",
   "execution_count": 5,
   "metadata": {},
   "outputs": [
    {
     "data": {
      "text/html": [
       "<div>\n",
       "<style scoped>\n",
       "    .dataframe tbody tr th:only-of-type {\n",
       "        vertical-align: middle;\n",
       "    }\n",
       "\n",
       "    .dataframe tbody tr th {\n",
       "        vertical-align: top;\n",
       "    }\n",
       "\n",
       "    .dataframe thead th {\n",
       "        text-align: right;\n",
       "    }\n",
       "</style>\n",
       "<table border=\"1\" class=\"dataframe\">\n",
       "  <thead>\n",
       "    <tr style=\"text-align: right;\">\n",
       "      <th></th>\n",
       "      <th>Count</th>\n",
       "      <th>Percent</th>\n",
       "    </tr>\n",
       "  </thead>\n",
       "  <tbody>\n",
       "    <tr>\n",
       "      <th>SalePrice</th>\n",
       "      <td>1459</td>\n",
       "      <td>0.499829</td>\n",
       "    </tr>\n",
       "  </tbody>\n",
       "</table>\n",
       "</div>"
      ],
      "text/plain": [
       "           Count   Percent\n",
       "SalePrice   1459  0.499829"
      ]
     },
     "execution_count": 5,
     "metadata": {},
     "output_type": "execute_result"
    }
   ],
   "source": [
    "summary_missing_data(comb)"
   ]
  },
  {
   "cell_type": "markdown",
   "metadata": {},
   "source": [
    "# Feature Engineering\n",
    "\n",
    "## 1 Labeling\n",
    "\n",
    "### 1a) Turn categorical features that could be interpreted as ordinal features (ratings as Poor, Good, Excellent, etc.)"
   ]
  },
  {
   "cell_type": "code",
   "execution_count": 6,
   "metadata": {},
   "outputs": [],
   "source": [
    "rating_map_type1 = { 'NA': 0, 'Po': 1, 'Fa': 2, 'TA': 3, 'Gd': 4, 'Ex': 5 }\n",
    "fts_type1 = ['ExterQual', 'ExterCond', 'BsmtQual', 'BsmtCond', 'HeatingQC', 'KitchenQual', \n",
    "       'FireplaceQu', 'GarageQual', 'GarageCond']\n",
    "for f in fts_type1:\n",
    "    comb[f] = comb[f].map(rating_map_type1)\n",
    "    comb[f] = comb[f].astype('int8')\n",
    "\n",
    "    \n",
    "rating_map_type2 = { 'NA': 0, 'No': 1, 'Mn': 2, 'Av': 3, 'Gd': 4 }\n",
    "fts_type2 = ['BsmtExposure']\n",
    "for f in fts_type2:\n",
    "    comb[f] = comb[f].map(rating_map_type2)\n",
    "    comb[f] = comb[f].astype('int8')\n",
    "\n",
    "    \n",
    "rating_map_type3 = { 'NA': 0, 'Unf': 1, 'LwQ': 2, 'Rec': 3, 'BLQ': 4, 'ALQ': 5, 'GLQ': 6 }\n",
    "fts_type3 = ['BsmtFinType1', 'BsmtFinType2']\n",
    "for f in fts_type3:\n",
    "    comb[f] = comb[f].map(rating_map_type3)\n",
    "    comb[f] = comb[f].astype('int8')\n",
    "\n",
    "\n",
    "rating_map_type4 = { 'NA': 0, 'Unf': 1, 'RFn': 2, 'Fin': 3 }\n",
    "fts_type4 = ['GarageFinish']\n",
    "for f in fts_type4:\n",
    "    comb[f] = comb[f].map(rating_map_type4)\n",
    "    comb[f] = comb[f].astype('int8')\n",
    "    \n",
    "\n",
    "# rating_map_type5 = { 'NA': 0, 'MnWw': 1, 'GdWo': 2, 'MnPrv': 3, 'GdPrv': 4 }\n",
    "# fts_type5 = ['Fence']\n",
    "# for f in fts_type5:\n",
    "#     comb[f] = comb[f].map(rating_map_type5)"
   ]
  },
  {
   "cell_type": "code",
   "execution_count": 7,
   "metadata": {},
   "outputs": [
    {
     "name": "stdout",
     "output_type": "stream",
     "text": [
      "Features labeled: 13\n"
     ]
    }
   ],
   "source": [
    "print('Features labeled:', len( fts_type1 + fts_type2 + fts_type3 + fts_type4 ))"
   ]
  },
  {
   "cell_type": "markdown",
   "metadata": {},
   "source": [
    "### 1b) Turn categorical features with OneHotEncode"
   ]
  },
  {
   "cell_type": "code",
   "execution_count": 8,
   "metadata": {},
   "outputs": [],
   "source": [
    "cols_to_dummy = [\n",
    "    'MSSubClass', 'MSZoning', 'BldgType', 'HouseStyle', 'Street', 'LotShape',\n",
    "    'LandContour', 'Utilities', 'LotConfig', 'LandSlope', 'Neighborhood', 'Condition1',\n",
    "    'Condition2', 'YearBuilt', 'YearRemodAdd', 'RoofMatl', 'Exterior1st', 'Exterior2nd',\n",
    "    'MasVnrType', 'Foundation', 'Heating', 'CentralAir', 'Electrical', 'Functional',\n",
    "    'GarageType', 'PavedDrive', 'MiscFeature', 'MoSold', 'YrSold', 'SaleType', 'SaleCondition'\n",
    "]\n",
    "dumbcomb = pd.get_dummies(comb, columns=cols_to_dummy)"
   ]
  },
  {
   "cell_type": "code",
   "execution_count": 9,
   "metadata": {},
   "outputs": [
    {
     "name": "stdout",
     "output_type": "stream",
     "text": [
      "Features dummified: 31\n"
     ]
    }
   ],
   "source": [
    "print('Features dummified:', len(cols_to_dummy))"
   ]
  },
  {
   "cell_type": "code",
   "execution_count": null,
   "metadata": {},
   "outputs": [],
   "source": []
  },
  {
   "cell_type": "code",
   "execution_count": 10,
   "metadata": {},
   "outputs": [
    {
     "data": {
      "text/plain": [
       "(2919, 438)"
      ]
     },
     "execution_count": 10,
     "metadata": {},
     "output_type": "execute_result"
    }
   ],
   "source": [
    "dumbcomb.shape"
   ]
  },
  {
   "cell_type": "markdown",
   "metadata": {},
   "source": [
    "## 3 Playground ~ Create new features"
   ]
  },
  {
   "cell_type": "code",
   "execution_count": 11,
   "metadata": {},
   "outputs": [],
   "source": [
    "def create_new_ft(df: pd.DataFrame, new_ft: str, fts_to_combine: list or dict) -> pd.DataFrame:\n",
    "    \"\"\"\n",
    "        Creates a new feature\n",
    "        :param new_ft: the name of the resulting new feature\n",
    "        :param fts_to_combine: \n",
    "            if given a list, all features to combine are weighted equally\n",
    "            if given a dict, each feature in the dict will have a given weight\n",
    "    \"\"\"\n",
    "    dfc = df.copy()\n",
    "    if new_ft not in list(dfc.columns):\n",
    "        dfc[new_ft] = 0\n",
    "        if type(fts_to_combine) == list:\n",
    "            for f in fts_to_combine:\n",
    "                dfc[new_ft] += dfc[f]\n",
    "        elif type(fts_to_combine) == dict:\n",
    "            for f, weight in fts_to_combine.items():\n",
    "                dfc[new_ft] += weight * dfc[f]\n",
    "    else:\n",
    "        print(\"Exception: New feature not created as it already exists in given DataFrame\")\n",
    "    return dfc"
   ]
  },
  {
   "cell_type": "markdown",
   "metadata": {},
   "source": [
    "* Sum all house qualities"
   ]
  },
  {
   "cell_type": "code",
   "execution_count": 12,
   "metadata": {},
   "outputs": [],
   "source": [
    "new_ft = '_TotalQuality'\n",
    "ft_quality = ['OverallQual', 'ExterQual', 'BsmtQual', 'HeatingQC', 'KitchenQual', \n",
    "              'FireplaceQu', 'GarageQual']\n",
    "dumbcomb = create_new_ft(dumbcomb, new_ft, ft_quality)"
   ]
  },
  {
   "cell_type": "markdown",
   "metadata": {},
   "source": [
    "* Sum all house conditions"
   ]
  },
  {
   "cell_type": "code",
   "execution_count": 13,
   "metadata": {},
   "outputs": [],
   "source": [
    "new_ft = '_TotalConditions'\n",
    "ft_quality = ['OverallCond', 'ExterCond', 'BsmtCond', 'HeatingQC', 'GarageCond']\n",
    "dumbcomb = create_new_ft(dumbcomb, new_ft, ft_quality)"
   ]
  },
  {
   "cell_type": "markdown",
   "metadata": {},
   "source": [
    "* Check square feets for each section of the houses and try to create a **_TotalSF** feature without overlapping"
   ]
  },
  {
   "cell_type": "code",
   "execution_count": 14,
   "metadata": {
    "scrolled": true
   },
   "outputs": [
    {
     "data": {
      "text/plain": [
       "0       True\n",
       "1       True\n",
       "2       True\n",
       "3       True\n",
       "4       True\n",
       "5       True\n",
       "6       True\n",
       "7       True\n",
       "8       True\n",
       "9       True\n",
       "10      True\n",
       "11      True\n",
       "12      True\n",
       "13      True\n",
       "14      True\n",
       "15      True\n",
       "16      True\n",
       "17      True\n",
       "18      True\n",
       "19      True\n",
       "20      True\n",
       "21      True\n",
       "22      True\n",
       "23      True\n",
       "24      True\n",
       "25      True\n",
       "26      True\n",
       "27      True\n",
       "28      True\n",
       "29      True\n",
       "        ... \n",
       "2889    True\n",
       "2890    True\n",
       "2891    True\n",
       "2892    True\n",
       "2893    True\n",
       "2894    True\n",
       "2895    True\n",
       "2896    True\n",
       "2897    True\n",
       "2898    True\n",
       "2899    True\n",
       "2900    True\n",
       "2901    True\n",
       "2902    True\n",
       "2903    True\n",
       "2904    True\n",
       "2905    True\n",
       "2906    True\n",
       "2907    True\n",
       "2908    True\n",
       "2909    True\n",
       "2910    True\n",
       "2911    True\n",
       "2912    True\n",
       "2913    True\n",
       "2914    True\n",
       "2915    True\n",
       "2916    True\n",
       "2917    True\n",
       "2918    True\n",
       "Length: 2919, dtype: bool"
      ]
     },
     "execution_count": 14,
     "metadata": {},
     "output_type": "execute_result"
    }
   ],
   "source": [
    "# See these areas are dependent\n",
    "dumbcomb['BsmtFinSF1']+dumbcomb['BsmtFinSF2']+dumbcomb['BsmtUnfSF'] == dumbcomb['TotalBsmtSF']"
   ]
  },
  {
   "cell_type": "code",
   "execution_count": 15,
   "metadata": {},
   "outputs": [
    {
     "data": {
      "text/plain": [
       "0       True\n",
       "1       True\n",
       "2       True\n",
       "3       True\n",
       "4       True\n",
       "5       True\n",
       "6       True\n",
       "7       True\n",
       "8       True\n",
       "9       True\n",
       "10      True\n",
       "11      True\n",
       "12      True\n",
       "13      True\n",
       "14      True\n",
       "15      True\n",
       "16      True\n",
       "17      True\n",
       "18      True\n",
       "19      True\n",
       "20      True\n",
       "21      True\n",
       "22      True\n",
       "23      True\n",
       "24      True\n",
       "25      True\n",
       "26      True\n",
       "27      True\n",
       "28      True\n",
       "29      True\n",
       "        ... \n",
       "2889    True\n",
       "2890    True\n",
       "2891    True\n",
       "2892    True\n",
       "2893    True\n",
       "2894    True\n",
       "2895    True\n",
       "2896    True\n",
       "2897    True\n",
       "2898    True\n",
       "2899    True\n",
       "2900    True\n",
       "2901    True\n",
       "2902    True\n",
       "2903    True\n",
       "2904    True\n",
       "2905    True\n",
       "2906    True\n",
       "2907    True\n",
       "2908    True\n",
       "2909    True\n",
       "2910    True\n",
       "2911    True\n",
       "2912    True\n",
       "2913    True\n",
       "2914    True\n",
       "2915    True\n",
       "2916    True\n",
       "2917    True\n",
       "2918    True\n",
       "Length: 2919, dtype: bool"
      ]
     },
     "execution_count": 15,
     "metadata": {},
     "output_type": "execute_result"
    }
   ],
   "source": [
    "# See these areas are dependent\n",
    "dumbcomb['GrLivArea'] == dumbcomb['1stFlrSF'] + dumbcomb['2ndFlrSF']"
   ]
  },
  {
   "cell_type": "code",
   "execution_count": 16,
   "metadata": {},
   "outputs": [
    {
     "data": {
      "text/html": [
       "<div>\n",
       "<style scoped>\n",
       "    .dataframe tbody tr th:only-of-type {\n",
       "        vertical-align: middle;\n",
       "    }\n",
       "\n",
       "    .dataframe tbody tr th {\n",
       "        vertical-align: top;\n",
       "    }\n",
       "\n",
       "    .dataframe thead th {\n",
       "        text-align: right;\n",
       "    }\n",
       "</style>\n",
       "<table border=\"1\" class=\"dataframe\">\n",
       "  <thead>\n",
       "    <tr style=\"text-align: right;\">\n",
       "      <th></th>\n",
       "      <th>WoodDeckSF</th>\n",
       "      <th>OpenPorchSF</th>\n",
       "      <th>EnclosedPorch</th>\n",
       "      <th>3SsnPorch</th>\n",
       "      <th>ScreenPorch</th>\n",
       "    </tr>\n",
       "  </thead>\n",
       "  <tbody>\n",
       "    <tr>\n",
       "      <th>1333</th>\n",
       "      <td>0</td>\n",
       "      <td>65</td>\n",
       "      <td>190</td>\n",
       "      <td>0</td>\n",
       "      <td>0</td>\n",
       "    </tr>\n",
       "    <tr>\n",
       "      <th>1671</th>\n",
       "      <td>0</td>\n",
       "      <td>116</td>\n",
       "      <td>0</td>\n",
       "      <td>0</td>\n",
       "      <td>0</td>\n",
       "    </tr>\n",
       "    <tr>\n",
       "      <th>990</th>\n",
       "      <td>0</td>\n",
       "      <td>70</td>\n",
       "      <td>0</td>\n",
       "      <td>0</td>\n",
       "      <td>0</td>\n",
       "    </tr>\n",
       "    <tr>\n",
       "      <th>1897</th>\n",
       "      <td>329</td>\n",
       "      <td>96</td>\n",
       "      <td>0</td>\n",
       "      <td>0</td>\n",
       "      <td>0</td>\n",
       "    </tr>\n",
       "    <tr>\n",
       "      <th>1449</th>\n",
       "      <td>0</td>\n",
       "      <td>0</td>\n",
       "      <td>0</td>\n",
       "      <td>0</td>\n",
       "      <td>0</td>\n",
       "    </tr>\n",
       "    <tr>\n",
       "      <th>385</th>\n",
       "      <td>146</td>\n",
       "      <td>20</td>\n",
       "      <td>0</td>\n",
       "      <td>0</td>\n",
       "      <td>144</td>\n",
       "    </tr>\n",
       "    <tr>\n",
       "      <th>2467</th>\n",
       "      <td>0</td>\n",
       "      <td>25</td>\n",
       "      <td>77</td>\n",
       "      <td>0</td>\n",
       "      <td>0</td>\n",
       "    </tr>\n",
       "    <tr>\n",
       "      <th>346</th>\n",
       "      <td>0</td>\n",
       "      <td>0</td>\n",
       "      <td>0</td>\n",
       "      <td>0</td>\n",
       "      <td>0</td>\n",
       "    </tr>\n",
       "    <tr>\n",
       "      <th>2189</th>\n",
       "      <td>0</td>\n",
       "      <td>0</td>\n",
       "      <td>0</td>\n",
       "      <td>0</td>\n",
       "      <td>0</td>\n",
       "    </tr>\n",
       "    <tr>\n",
       "      <th>1213</th>\n",
       "      <td>88</td>\n",
       "      <td>0</td>\n",
       "      <td>0</td>\n",
       "      <td>0</td>\n",
       "      <td>0</td>\n",
       "    </tr>\n",
       "  </tbody>\n",
       "</table>\n",
       "</div>"
      ],
      "text/plain": [
       "      WoodDeckSF  OpenPorchSF  EnclosedPorch  3SsnPorch  ScreenPorch\n",
       "1333           0           65            190          0            0\n",
       "1671           0          116              0          0            0\n",
       "990            0           70              0          0            0\n",
       "1897         329           96              0          0            0\n",
       "1449           0            0              0          0            0\n",
       "385          146           20              0          0          144\n",
       "2467           0           25             77          0            0\n",
       "346            0            0              0          0            0\n",
       "2189           0            0              0          0            0\n",
       "1213          88            0              0          0            0"
      ]
     },
     "execution_count": 16,
     "metadata": {},
     "output_type": "execute_result"
    }
   ],
   "source": [
    "# See these areas are independent\n",
    "dumbcomb[['WoodDeckSF', 'OpenPorchSF', 'EnclosedPorch', '3SsnPorch', 'ScreenPorch']].sample(10)"
   ]
  },
  {
   "cell_type": "code",
   "execution_count": 17,
   "metadata": {},
   "outputs": [],
   "source": [
    "new_ft = '_TotalSF'\n",
    "ft_quality = [\n",
    "              'TotalBsmtSF', 'GrLivArea', 'GarageArea',\n",
    "              'WoodDeckSF', 'OpenPorchSF', 'EnclosedPorch', '3SsnPorch', 'ScreenPorch', \n",
    "              'PoolArea'\n",
    "             ]\n",
    "dumbcomb = create_new_ft(dumbcomb, new_ft, ft_quality)"
   ]
  },
  {
   "cell_type": "markdown",
   "metadata": {},
   "source": [
    "* Total rooms"
   ]
  },
  {
   "cell_type": "code",
   "execution_count": 18,
   "metadata": {},
   "outputs": [
    {
     "data": {
      "text/html": [
       "<div>\n",
       "<style scoped>\n",
       "    .dataframe tbody tr th:only-of-type {\n",
       "        vertical-align: middle;\n",
       "    }\n",
       "\n",
       "    .dataframe tbody tr th {\n",
       "        vertical-align: top;\n",
       "    }\n",
       "\n",
       "    .dataframe thead th {\n",
       "        text-align: right;\n",
       "    }\n",
       "</style>\n",
       "<table border=\"1\" class=\"dataframe\">\n",
       "  <thead>\n",
       "    <tr style=\"text-align: right;\">\n",
       "      <th></th>\n",
       "      <th>BedroomAbvGr</th>\n",
       "      <th>TotRmsAbvGrd</th>\n",
       "    </tr>\n",
       "  </thead>\n",
       "  <tbody>\n",
       "    <tr>\n",
       "      <th>658</th>\n",
       "      <td>3</td>\n",
       "      <td>6</td>\n",
       "    </tr>\n",
       "    <tr>\n",
       "      <th>1797</th>\n",
       "      <td>3</td>\n",
       "      <td>6</td>\n",
       "    </tr>\n",
       "    <tr>\n",
       "      <th>1971</th>\n",
       "      <td>3</td>\n",
       "      <td>9</td>\n",
       "    </tr>\n",
       "    <tr>\n",
       "      <th>1928</th>\n",
       "      <td>2</td>\n",
       "      <td>4</td>\n",
       "    </tr>\n",
       "    <tr>\n",
       "      <th>950</th>\n",
       "      <td>3</td>\n",
       "      <td>5</td>\n",
       "    </tr>\n",
       "    <tr>\n",
       "      <th>439</th>\n",
       "      <td>3</td>\n",
       "      <td>7</td>\n",
       "    </tr>\n",
       "    <tr>\n",
       "      <th>2838</th>\n",
       "      <td>3</td>\n",
       "      <td>6</td>\n",
       "    </tr>\n",
       "    <tr>\n",
       "      <th>731</th>\n",
       "      <td>3</td>\n",
       "      <td>6</td>\n",
       "    </tr>\n",
       "    <tr>\n",
       "      <th>1366</th>\n",
       "      <td>3</td>\n",
       "      <td>7</td>\n",
       "    </tr>\n",
       "    <tr>\n",
       "      <th>1520</th>\n",
       "      <td>3</td>\n",
       "      <td>6</td>\n",
       "    </tr>\n",
       "  </tbody>\n",
       "</table>\n",
       "</div>"
      ],
      "text/plain": [
       "      BedroomAbvGr  TotRmsAbvGrd\n",
       "658              3             6\n",
       "1797             3             6\n",
       "1971             3             9\n",
       "1928             2             4\n",
       "950              3             5\n",
       "439              3             7\n",
       "2838             3             6\n",
       "731              3             6\n",
       "1366             3             7\n",
       "1520             3             6"
      ]
     },
     "execution_count": 18,
     "metadata": {},
     "output_type": "execute_result"
    }
   ],
   "source": [
    "dumbcomb[['BedroomAbvGr', 'TotRmsAbvGrd']].sample(10)"
   ]
  },
  {
   "cell_type": "code",
   "execution_count": 19,
   "metadata": {},
   "outputs": [],
   "source": [
    "# new_ft = '_TotalRooms'\n",
    "# ft_quality = ['']\n",
    "# dumbcomb = create_new_ft(dumbcomb, new_ft, ft_quality)"
   ]
  },
  {
   "cell_type": "markdown",
   "metadata": {},
   "source": [
    "* Total bathrooms"
   ]
  },
  {
   "cell_type": "code",
   "execution_count": 20,
   "metadata": {},
   "outputs": [],
   "source": [
    "new_ft = '_TotalBathrooms'\n",
    "ft_quality = { 'BsmtFullBath': 1, 'BsmtHalfBath': 0.5, 'FullBath': 1, 'HalfBath': 0.5 }\n",
    "dumbcomb = create_new_ft(dumbcomb, new_ft, ft_quality)"
   ]
  },
  {
   "cell_type": "code",
   "execution_count": 21,
   "metadata": {},
   "outputs": [
    {
     "data": {
      "text/html": [
       "<div>\n",
       "<style scoped>\n",
       "    .dataframe tbody tr th:only-of-type {\n",
       "        vertical-align: middle;\n",
       "    }\n",
       "\n",
       "    .dataframe tbody tr th {\n",
       "        vertical-align: top;\n",
       "    }\n",
       "\n",
       "    .dataframe thead th {\n",
       "        text-align: right;\n",
       "    }\n",
       "</style>\n",
       "<table border=\"1\" class=\"dataframe\">\n",
       "  <thead>\n",
       "    <tr style=\"text-align: right;\">\n",
       "      <th></th>\n",
       "      <th>_TotalBathrooms</th>\n",
       "      <th>BsmtFullBath</th>\n",
       "      <th>BsmtHalfBath</th>\n",
       "      <th>FullBath</th>\n",
       "      <th>HalfBath</th>\n",
       "    </tr>\n",
       "  </thead>\n",
       "  <tbody>\n",
       "    <tr>\n",
       "      <th>486</th>\n",
       "      <td>2.5</td>\n",
       "      <td>1.0</td>\n",
       "      <td>0.0</td>\n",
       "      <td>1</td>\n",
       "      <td>1</td>\n",
       "    </tr>\n",
       "    <tr>\n",
       "      <th>1729</th>\n",
       "      <td>2.0</td>\n",
       "      <td>0.0</td>\n",
       "      <td>0.0</td>\n",
       "      <td>2</td>\n",
       "      <td>0</td>\n",
       "    </tr>\n",
       "    <tr>\n",
       "      <th>2644</th>\n",
       "      <td>1.5</td>\n",
       "      <td>0.0</td>\n",
       "      <td>0.0</td>\n",
       "      <td>1</td>\n",
       "      <td>1</td>\n",
       "    </tr>\n",
       "    <tr>\n",
       "      <th>625</th>\n",
       "      <td>1.5</td>\n",
       "      <td>0.0</td>\n",
       "      <td>0.0</td>\n",
       "      <td>1</td>\n",
       "      <td>1</td>\n",
       "    </tr>\n",
       "    <tr>\n",
       "      <th>2319</th>\n",
       "      <td>2.0</td>\n",
       "      <td>0.0</td>\n",
       "      <td>0.0</td>\n",
       "      <td>2</td>\n",
       "      <td>0</td>\n",
       "    </tr>\n",
       "    <tr>\n",
       "      <th>2870</th>\n",
       "      <td>1.0</td>\n",
       "      <td>0.0</td>\n",
       "      <td>0.0</td>\n",
       "      <td>1</td>\n",
       "      <td>0</td>\n",
       "    </tr>\n",
       "    <tr>\n",
       "      <th>2051</th>\n",
       "      <td>2.0</td>\n",
       "      <td>1.0</td>\n",
       "      <td>0.0</td>\n",
       "      <td>1</td>\n",
       "      <td>0</td>\n",
       "    </tr>\n",
       "    <tr>\n",
       "      <th>2240</th>\n",
       "      <td>2.0</td>\n",
       "      <td>1.0</td>\n",
       "      <td>0.0</td>\n",
       "      <td>1</td>\n",
       "      <td>0</td>\n",
       "    </tr>\n",
       "    <tr>\n",
       "      <th>1981</th>\n",
       "      <td>3.0</td>\n",
       "      <td>1.0</td>\n",
       "      <td>0.0</td>\n",
       "      <td>2</td>\n",
       "      <td>0</td>\n",
       "    </tr>\n",
       "    <tr>\n",
       "      <th>2389</th>\n",
       "      <td>2.0</td>\n",
       "      <td>1.0</td>\n",
       "      <td>0.0</td>\n",
       "      <td>1</td>\n",
       "      <td>0</td>\n",
       "    </tr>\n",
       "  </tbody>\n",
       "</table>\n",
       "</div>"
      ],
      "text/plain": [
       "      _TotalBathrooms  BsmtFullBath  BsmtHalfBath  FullBath  HalfBath\n",
       "486               2.5           1.0           0.0         1         1\n",
       "1729              2.0           0.0           0.0         2         0\n",
       "2644              1.5           0.0           0.0         1         1\n",
       "625               1.5           0.0           0.0         1         1\n",
       "2319              2.0           0.0           0.0         2         0\n",
       "2870              1.0           0.0           0.0         1         0\n",
       "2051              2.0           1.0           0.0         1         0\n",
       "2240              2.0           1.0           0.0         1         0\n",
       "1981              3.0           1.0           0.0         2         0\n",
       "2389              2.0           1.0           0.0         1         0"
      ]
     },
     "execution_count": 21,
     "metadata": {},
     "output_type": "execute_result"
    }
   ],
   "source": [
    "dumbcomb[['_TotalBathrooms', 'BsmtFullBath', 'BsmtHalfBath', 'FullBath', 'HalfBath']].sample(10)"
   ]
  },
  {
   "cell_type": "markdown",
   "metadata": {},
   "source": [
    "* Ratio of the **GrLivArea** relative to the **LotArea**"
   ]
  },
  {
   "cell_type": "code",
   "execution_count": 22,
   "metadata": {},
   "outputs": [
    {
     "data": {
      "text/html": [
       "<div>\n",
       "<style scoped>\n",
       "    .dataframe tbody tr th:only-of-type {\n",
       "        vertical-align: middle;\n",
       "    }\n",
       "\n",
       "    .dataframe tbody tr th {\n",
       "        vertical-align: top;\n",
       "    }\n",
       "\n",
       "    .dataframe thead th {\n",
       "        text-align: right;\n",
       "    }\n",
       "</style>\n",
       "<table border=\"1\" class=\"dataframe\">\n",
       "  <thead>\n",
       "    <tr style=\"text-align: right;\">\n",
       "      <th></th>\n",
       "      <th>LotArea</th>\n",
       "      <th>GrLivArea</th>\n",
       "    </tr>\n",
       "  </thead>\n",
       "  <tbody>\n",
       "    <tr>\n",
       "      <th>361</th>\n",
       "      <td>9144</td>\n",
       "      <td>1505</td>\n",
       "    </tr>\n",
       "    <tr>\n",
       "      <th>1867</th>\n",
       "      <td>11422</td>\n",
       "      <td>1838</td>\n",
       "    </tr>\n",
       "    <tr>\n",
       "      <th>177</th>\n",
       "      <td>13650</td>\n",
       "      <td>1920</td>\n",
       "    </tr>\n",
       "    <tr>\n",
       "      <th>27</th>\n",
       "      <td>11478</td>\n",
       "      <td>1704</td>\n",
       "    </tr>\n",
       "    <tr>\n",
       "      <th>2358</th>\n",
       "      <td>8012</td>\n",
       "      <td>1266</td>\n",
       "    </tr>\n",
       "    <tr>\n",
       "      <th>351</th>\n",
       "      <td>5271</td>\n",
       "      <td>1453</td>\n",
       "    </tr>\n",
       "    <tr>\n",
       "      <th>2376</th>\n",
       "      <td>17778</td>\n",
       "      <td>2497</td>\n",
       "    </tr>\n",
       "    <tr>\n",
       "      <th>1680</th>\n",
       "      <td>6472</td>\n",
       "      <td>1456</td>\n",
       "    </tr>\n",
       "    <tr>\n",
       "      <th>1699</th>\n",
       "      <td>9085</td>\n",
       "      <td>2061</td>\n",
       "    </tr>\n",
       "    <tr>\n",
       "      <th>1313</th>\n",
       "      <td>14774</td>\n",
       "      <td>2599</td>\n",
       "    </tr>\n",
       "  </tbody>\n",
       "</table>\n",
       "</div>"
      ],
      "text/plain": [
       "      LotArea  GrLivArea\n",
       "361      9144       1505\n",
       "1867    11422       1838\n",
       "177     13650       1920\n",
       "27      11478       1704\n",
       "2358     8012       1266\n",
       "351      5271       1453\n",
       "2376    17778       2497\n",
       "1680     6472       1456\n",
       "1699     9085       2061\n",
       "1313    14774       2599"
      ]
     },
     "execution_count": 22,
     "metadata": {},
     "output_type": "execute_result"
    }
   ],
   "source": [
    "dumbcomb[['LotArea', 'GrLivArea']].sample(10)"
   ]
  },
  {
   "cell_type": "code",
   "execution_count": 23,
   "metadata": {},
   "outputs": [],
   "source": [
    "dumbcomb['_Rel_LivAreaOverLotArea'] = dumbcomb['GrLivArea'] / dumbcomb['LotArea']"
   ]
  },
  {
   "cell_type": "code",
   "execution_count": 24,
   "metadata": {},
   "outputs": [],
   "source": [
    "dumbcomb['_Rel_TQualityOverTSF'] = dumbcomb['_TotalQuality'] / dumbcomb['_TotalSF']\n",
    "dumbcomb['_Rel_TConditionsOverTSF'] = dumbcomb['_TotalConditions'] / dumbcomb['_TotalSF']"
   ]
  },
  {
   "cell_type": "code",
   "execution_count": null,
   "metadata": {},
   "outputs": [],
   "source": []
  },
  {
   "cell_type": "code",
   "execution_count": null,
   "metadata": {},
   "outputs": [],
   "source": []
  },
  {
   "cell_type": "code",
   "execution_count": 25,
   "metadata": {},
   "outputs": [
    {
     "data": {
      "text/plain": [
       "((1460, 445), (1459, 444))"
      ]
     },
     "execution_count": 25,
     "metadata": {},
     "output_type": "execute_result"
    }
   ],
   "source": [
    "datatrain = dumbcomb.iloc[0:brk,:]\n",
    "datatest = dumbcomb.iloc[brk:,:].drop(columns=['SalePrice'])\n",
    "datatrain.shape, datatest.shape"
   ]
  },
  {
   "cell_type": "code",
   "execution_count": 26,
   "metadata": {},
   "outputs": [
    {
     "name": "stdout",
     "output_type": "stream",
     "text": [
      "OverallQual :  0.7909816005838047\n",
      "MasVnrArea :  0.47261449900457725\n",
      "ExterQual :  0.6826392416562591\n",
      "BsmtQual :  0.5852071991725148\n",
      "TotalBsmtSF :  0.6135805515591944\n",
      "HeatingQC :  0.4276487073988049\n",
      "1stFlrSF :  0.6058521846919166\n",
      "GrLivArea :  0.7086244776126511\n",
      "FullBath :  0.5606637627484452\n",
      "KitchenQual :  0.6595997207286572\n",
      "TotRmsAbvGrd :  0.5337231555820238\n",
      "Fireplaces :  0.4669288367515242\n",
      "FireplaceQu :  0.5204376059504007\n",
      "GarageYrBlt :  0.5080432871615157\n",
      "GarageFinish :  0.5492467563332154\n",
      "GarageCars :  0.640409197258349\n",
      "GarageArea :  0.6234314389183598\n",
      "Neighborhood_NridgHt :  0.40214859817526666\n",
      "Foundation_PConc :  0.4977337525869438\n",
      "_TotalQuality :  0.8029271404977033\n",
      "_TotalSF :  0.8077042407242587\n",
      "_TotalBathrooms :  0.6317310679319897\n",
      "_Rel_TQualityOverTSF :  -0.4222617615377976\n",
      "_Rel_TConditionsOverTSF :  -0.6338765604311236\n"
     ]
    }
   ],
   "source": [
    "util_m.print_moderate_correlations(datatrain, 'SalePrice', 0.4)"
   ]
  },
  {
   "cell_type": "code",
   "execution_count": 27,
   "metadata": {},
   "outputs": [
    {
     "name": "stdout",
     "output_type": "stream",
     "text": [
      "Id :  -0.021916719443431112\n",
      "LotFrontage :  0.3424734120780685\n",
      "LotArea :  0.2638433538714063\n",
      "OverallCond :  -0.0778558940486776\n",
      "ExterCond :  0.018899118482413147\n",
      "BsmtCond :  0.2126071564855757\n",
      "BsmtExposure :  0.3750449589200733\n",
      "BsmtFinType1 :  0.3049078730706334\n",
      "BsmtFinSF1 :  0.38641980624215627\n",
      "BsmtFinType2 :  -0.00432931629117379\n",
      "BsmtFinSF2 :  -0.011378121450215216\n",
      "BsmtUnfSF :  0.214479105546969\n",
      "2ndFlrSF :  0.31933380283206614\n",
      "LowQualFinSF :  -0.02560613000068015\n",
      "BsmtFullBath :  0.22712223313149718\n",
      "BsmtHalfBath :  -0.016844154297359294\n",
      "HalfBath :  0.2841076755947784\n",
      "BedroomAbvGr :  0.1682131543007415\n",
      "KitchenAbvGr :  -0.1359073708421417\n",
      "GarageQual :  0.27383907400622587\n",
      "GarageCond :  0.26319078447040084\n",
      "WoodDeckSF :  0.32441344456813076\n",
      "OpenPorchSF :  0.31585622711605577\n",
      "EnclosedPorch :  -0.12857795792595636\n",
      "3SsnPorch :  0.04458366533574792\n",
      "ScreenPorch :  0.11144657114291048\n",
      "PoolArea :  0.09240354949187278\n",
      "MiscVal :  -0.02118957964030379\n",
      "MSSubClass_20 :  0.04127392338024072\n",
      "MSSubClass_30 :  -0.23863980017239217\n",
      "MSSubClass_40 :  -0.016365535870343034\n",
      "MSSubClass_45 :  -0.08291208642778201\n",
      "MSSubClass_50 :  -0.15669222563818788\n",
      "MSSubClass_60 :  0.37719706842810213\n",
      "MSSubClass_70 :  -0.03688301717653536\n",
      "MSSubClass_75 :  0.015264598404934833\n",
      "MSSubClass_80 :  -0.028645606731152205\n",
      "MSSubClass_85 :  -0.04913652981950262\n",
      "MSSubClass_90 :  -0.114654830022284\n",
      "MSSubClass_120 :  0.06294383548206024\n",
      "MSSubClass_160 :  -0.11304188140989932\n",
      "MSSubClass_180 :  -0.0822150845804483\n",
      "MSSubClass_190 :  -0.09357770607047866\n",
      "MSZoning_C (all) :  -0.11125658290808499\n",
      "MSZoning_FV :  0.08994971967036147\n",
      "MSZoning_RH :  -0.06542929310102559\n",
      "MSZoning_RL :  0.24506340389709183\n",
      "MSZoning_RM :  -0.2880651218971229\n",
      "BldgType_1Fam :  0.13748324869515327\n",
      "BldgType_2fmCon :  -0.09734830194128331\n",
      "BldgType_Duplex :  -0.114654830022284\n",
      "BldgType_Twnhs :  -0.09873019861048951\n",
      "BldgType_TwnhsE :  0.0038043834533088893\n",
      "HouseStyle_1.5Fin :  -0.16346607100995758\n",
      "HouseStyle_1.5Unf :  -0.08768640584636365\n",
      "HouseStyle_1Story :  -0.06181110053588836\n",
      "HouseStyle_2.5Fin :  0.036525722375987446\n",
      "HouseStyle_2.5Unf :  -0.025855674595624382\n",
      "HouseStyle_2Story :  0.2428800272685404\n",
      "HouseStyle_SFoyer :  -0.09308987468225105\n",
      "HouseStyle_SLvl :  -0.03864543349361034\n",
      "Street_Grvl :  -0.04103553550004982\n",
      "Street_Pave :  0.04103553550004989\n",
      "LotShape_IR1 :  0.22328392470489936\n",
      "LotShape_IR2 :  0.12609608820325424\n",
      "LotShape_IR3 :  0.036720475499535554\n",
      "LotShape_Reg :  -0.2676717602887954\n",
      "LandContour_Bnk :  -0.10112449060458722\n",
      "LandContour_HLS :  0.12001380186770777\n",
      "LandContour_Low :  0.04552825032749539\n",
      "LandContour_Lvl :  -0.02754457933083911\n",
      "Utilities_AllPub :  0.014314296147248953\n",
      "Utilities_NoSeWa :  -0.014314296147248952\n",
      "LotConfig_Corner :  0.004144823294072492\n",
      "LotConfig_CulDSac :  0.1418175365252596\n",
      "LotConfig_FR2 :  -0.0068588907827759355\n",
      "LotConfig_FR3 :  0.018185562475503233\n",
      "LotConfig_Inside :  -0.08053786914590606\n",
      "LandSlope_Gtl :  -0.051116149337051664\n",
      "LandSlope_Mod :  0.042981159944370934\n",
      "LandSlope_Sev :  0.027997864142057176\n",
      "Neighborhood_Blmngtn :  0.01906564951350564\n",
      "Neighborhood_Blueste :  -0.020250412762982277\n",
      "Neighborhood_BrDale :  -0.10130283618167184\n",
      "Neighborhood_BrkSide :  -0.14364786671580496\n",
      "Neighborhood_ClearCr :  0.055718310532912374\n",
      "Neighborhood_CollgCr :  0.0726259931270773\n",
      "Neighborhood_Crawfor :  0.07115960252664767\n",
      "Neighborhood_Edwards :  -0.17994896448338463\n",
      "Neighborhood_Gilbert :  0.035939622294684025\n",
      "Neighborhood_IDOTRR :  -0.16405585189091604\n",
      "Neighborhood_MeadowV :  -0.11254415474600003\n",
      "Neighborhood_Mitchel :  -0.057845054186763285\n",
      "Neighborhood_NAmes :  -0.18851259699796893\n",
      "Neighborhood_NPkVill :  -0.03790973990405031\n",
      "Neighborhood_NWAmes :  0.023482773020255355\n",
      "Neighborhood_NoRidge :  0.33042362576535905\n",
      "Neighborhood_OldTown :  -0.19218879886097048\n",
      "Neighborhood_SWISU :  -0.06370549244437913\n",
      "Neighborhood_Sawyer :  -0.12839406550544274\n",
      "Neighborhood_SawyerW :  0.014560153318488835\n",
      "Neighborhood_Somerst :  0.1400579963436243\n",
      "Neighborhood_StoneBr :  0.21536272276938662\n",
      "Neighborhood_Timber :  0.1262363076697121\n",
      "Neighborhood_Veenker :  0.06347063934055344\n",
      "Condition1_Artery :  -0.10640071096805158\n",
      "Condition1_Feedr :  -0.11732867748568224\n",
      "Condition1_Norm :  0.11296832108736438\n",
      "Condition1_PosA :  0.0420168990854169\n",
      "Condition1_PosN :  0.04954116844794432\n",
      "Condition1_RRAe :  -0.046651271352762445\n",
      "Condition1_RRAn :  0.005892711711544447\n",
      "Condition1_RRNe :  0.004583875135268431\n",
      "Condition1_RRNn :  0.02323633312450878\n",
      "Condition2_Artery :  -0.0347079324783958\n",
      "Condition2_Feedr :  -0.048334821003573336\n",
      "Condition2_Norm :  0.030676288435637716\n",
      "Condition2_PosA :  0.04749723328144454\n",
      "Condition2_PosN :  0.048481102335697475\n",
      "Condition2_RRAe :  0.0029929320927850563\n",
      "Condition2_RRAn :  -0.014510444733969317\n",
      "Condition2_RRNn :  -0.03925505561469524\n",
      "YearBuilt_1872 :  -0.019424049246687388\n",
      "YearBuilt_1875 :  -0.028654570974705605\n",
      "YearBuilt_1880 :  0.013001082718460129\n",
      "YearBuilt_1882 :  -0.0042596206935148935\n",
      "YearBuilt_1885 :  -0.03249266736071144\n",
      "YearBuilt_1890 :  -0.018058466225484095\n",
      "YearBuilt_1892 :  0.05145422130943178\n",
      "YearBuilt_1893 :  0.04749723328144454\n",
      "YearBuilt_1898 :  -0.024698633091269514\n",
      "YearBuilt_1900 :  -0.07155656607784587\n",
      "YearBuilt_1904 :  -0.007721066341521723\n",
      "YearBuilt_1905 :  -0.0059079281449466465\n",
      "YearBuilt_1906 :  -0.01513844987296497\n",
      "YearBuilt_1908 :  0.001202681008276537\n",
      "YearBuilt_1910 :  -0.09425358330104114\n",
      "YearBuilt_1911 :  -0.01678675732439655\n",
      "YearBuilt_1912 :  -0.03511402476494765\n",
      "YearBuilt_1913 :  -0.02985783541425133\n",
      "YearBuilt_1914 :  -0.04795287657530751\n",
      "YearBuilt_1915 :  -0.048660818499933145\n",
      "YearBuilt_1916 :  -0.03843468138507357\n",
      "YearBuilt_1917 :  -0.016951588069539728\n",
      "YearBuilt_1918 :  -0.007428807648640047\n",
      "YearBuilt_1919 :  -0.014906140580112692\n",
      "YearBuilt_1920 :  -0.12405419428314249\n",
      "YearBuilt_1921 :  -0.03244283542546829\n",
      "YearBuilt_1922 :  -0.06700048362880738\n",
      "YearBuilt_1923 :  -0.018784581624356297\n",
      "YearBuilt_1924 :  -0.06549370800495574\n",
      "YearBuilt_1925 :  -0.06856769171653229\n",
      "YearBuilt_1926 :  -0.056305906165108235\n",
      "YearBuilt_1927 :  -0.05614089011844234\n",
      "YearBuilt_1928 :  -0.03964824112234623\n",
      "YearBuilt_1929 :  -0.018428041741035833\n",
      "YearBuilt_1930 :  -0.07669099606205762\n",
      "YearBuilt_1931 :  -0.04389940935172692\n",
      "YearBuilt_1932 :  0.0346087192221865\n",
      "YearBuilt_1934 :  0.02276699317823195\n",
      "YearBuilt_1935 :  -0.016046641957457138\n",
      "YearBuilt_1936 :  -0.042675443352931865\n",
      "YearBuilt_1937 :  -0.03613061976541526\n",
      "YearBuilt_1938 :  -0.047377374142080486\n",
      "YearBuilt_1939 :  -0.028129962538867324\n",
      "YearBuilt_1940 :  -0.06883286828122717\n",
      "YearBuilt_1941 :  -0.07700381000438355\n",
      "YearBuilt_1942 :  -0.008824308471768336\n",
      "YearBuilt_1945 :  -0.038358515160514535\n",
      "YearBuilt_1946 :  -0.05114760102518864\n",
      "YearBuilt_1947 :  -0.04703631464673831\n",
      "YearBuilt_1948 :  -0.05347195696168184\n",
      "YearBuilt_1949 :  -0.0795580779315181\n",
      "YearBuilt_1950 :  -0.07848048525180289\n",
      "YearBuilt_1951 :  -0.035850957205367254\n",
      "YearBuilt_1952 :  -0.05205682290883244\n",
      "YearBuilt_1953 :  -0.03964842410094449\n",
      "YearBuilt_1954 :  -0.06718484472687622\n",
      "YearBuilt_1955 :  -0.06150745462418398\n",
      "YearBuilt_1956 :  -0.0558924566435134\n",
      "YearBuilt_1957 :  -0.04594729689102105\n",
      "YearBuilt_1958 :  -0.06143976006432195\n",
      "YearBuilt_1959 :  -0.04543518766043441\n",
      "YearBuilt_1960 :  -0.026475464699229363\n",
      "YearBuilt_1961 :  -0.05089215565545169\n",
      "YearBuilt_1962 :  -0.05086573009206015\n",
      "YearBuilt_1963 :  -0.04972934716035673\n",
      "YearBuilt_1964 :  -0.02441167476586092\n",
      "YearBuilt_1965 :  -0.04526378573634197\n",
      "YearBuilt_1966 :  -0.030052897036509173\n",
      "YearBuilt_1967 :  -0.05114180879044824\n",
      "YearBuilt_1968 :  -0.023122934424466047\n",
      "YearBuilt_1969 :  -0.025022545363075684\n",
      "YearBuilt_1970 :  -0.07532767133537217\n",
      "YearBuilt_1971 :  -0.07647435280342797\n",
      "YearBuilt_1972 :  -0.0642824598764504\n",
      "YearBuilt_1973 :  -0.04555414154782982\n",
      "YearBuilt_1974 :  0.0022261148274700182\n",
      "YearBuilt_1975 :  -0.020237856438400495\n",
      "YearBuilt_1976 :  -0.03272376348391862\n",
      "YearBuilt_1977 :  -0.026503306004806687\n",
      "YearBuilt_1978 :  -0.02645479613547794\n",
      "YearBuilt_1979 :  -0.024320928789068795\n",
      "YearBuilt_1980 :  -0.016858119094443413\n",
      "YearBuilt_1981 :  0.050902497394113164\n",
      "YearBuilt_1982 :  -0.039248293789760226\n",
      "YearBuilt_1983 :  0.0003160116118205707\n",
      "YearBuilt_1984 :  -0.016670680024931456\n",
      "YearBuilt_1985 :  0.007735013763204255\n",
      "YearBuilt_1986 :  0.022941069898579157\n",
      "YearBuilt_1987 :  0.009758524848126098\n",
      "YearBuilt_1988 :  0.02601861736306985\n",
      "YearBuilt_1989 :  0.05632617501958843\n",
      "YearBuilt_1990 :  0.04580710039528513\n",
      "YearBuilt_1991 :  0.003852302342229944\n",
      "YearBuilt_1992 :  0.044713708318452776\n",
      "YearBuilt_1993 :  0.05075762772375898\n",
      "YearBuilt_1994 :  0.09684519158911938\n",
      "YearBuilt_1995 :  0.11433971492436693\n",
      "YearBuilt_1996 :  0.10037939532425999\n",
      "YearBuilt_1997 :  0.042131142902979646\n",
      "YearBuilt_1998 :  0.06569821845151042\n",
      "YearBuilt_1999 :  0.04935164818390594\n",
      "YearBuilt_2000 :  0.04858505494310443\n",
      "YearBuilt_2001 :  0.09157496163207973\n",
      "YearBuilt_2002 :  0.07319838525447422\n",
      "YearBuilt_2003 :  0.10439002183669925\n",
      "YearBuilt_2004 :  0.07261713019419351\n",
      "YearBuilt_2005 :  0.13146334428648562\n",
      "YearBuilt_2006 :  0.1956697199751585\n",
      "YearBuilt_2007 :  0.17468102782880418\n",
      "YearBuilt_2008 :  0.267518822274056\n",
      "YearBuilt_2009 :  0.12422365624207501\n",
      "YearBuilt_2010 :  0.07038628987500785\n",
      "YearRemodAdd_1950 :  -0.29774823011484436\n",
      "YearRemodAdd_1951 :  -0.03362458499630073\n",
      "YearRemodAdd_1952 :  -0.05205682290883244\n",
      "YearRemodAdd_1953 :  -0.03480252753828085\n",
      "YearRemodAdd_1954 :  -0.07406611696029944\n",
      "YearRemodAdd_1955 :  -0.05594228023721691\n",
      "YearRemodAdd_1956 :  -0.0592774039734798\n",
      "YearRemodAdd_1957 :  -0.04786449553361909\n",
      "YearRemodAdd_1958 :  -0.06739883881022864\n",
      "YearRemodAdd_1959 :  -0.0631208787242071\n",
      "YearRemodAdd_1960 :  -0.04093324692782891\n",
      "YearRemodAdd_1961 :  -0.04583608658810191\n",
      "YearRemodAdd_1962 :  -0.04392270958802109\n",
      "YearRemodAdd_1963 :  -0.04912068801529199\n",
      "YearRemodAdd_1964 :  -0.023811023595522056\n",
      "YearRemodAdd_1965 :  -0.053454438192435685\n",
      "YearRemodAdd_1966 :  -0.03977962867650967\n",
      "YearRemodAdd_1967 :  -0.056699790242124216\n",
      "YearRemodAdd_1968 :  -0.038030078807418384\n",
      "YearRemodAdd_1969 :  -0.02927058868036686\n",
      "YearRemodAdd_1970 :  -0.07045626694950242\n",
      "YearRemodAdd_1971 :  -0.08538295980443261\n",
      "YearRemodAdd_1972 :  -0.0795285499094454\n",
      "YearRemodAdd_1973 :  -0.04590322830394486\n",
      "YearRemodAdd_1974 :  -0.018847010288323942\n",
      "YearRemodAdd_1975 :  -0.006555351626374349\n",
      "YearRemodAdd_1976 :  -0.03839690234284175\n",
      "YearRemodAdd_1977 :  -0.03692906017035331\n",
      "YearRemodAdd_1978 :  -0.029901036828252348\n",
      "YearRemodAdd_1979 :  -0.03196112039238374\n",
      "YearRemodAdd_1980 :  -0.029928667771167882\n",
      "YearRemodAdd_1981 :  0.0032748948971877702\n",
      "YearRemodAdd_1982 :  -0.052133973915877846\n",
      "YearRemodAdd_1983 :  -0.03250936393100151\n",
      "YearRemodAdd_1984 :  0.0035024514120962852\n",
      "YearRemodAdd_1985 :  -0.013199705258694096\n",
      "YearRemodAdd_1986 :  0.006258697633556229\n",
      "YearRemodAdd_1987 :  0.030188438941002264\n",
      "YearRemodAdd_1988 :  0.009532424718282464\n",
      "YearRemodAdd_1989 :  0.019086751777356768\n",
      "YearRemodAdd_1990 :  0.024530913537180482\n",
      "YearRemodAdd_1991 :  0.0046996862144739245\n",
      "YearRemodAdd_1992 :  -0.012723608706982265\n",
      "YearRemodAdd_1993 :  0.0593888676283832\n",
      "YearRemodAdd_1994 :  0.056553755881535814\n",
      "YearRemodAdd_1995 :  0.048055800109937735\n",
      "YearRemodAdd_1996 :  0.06340142534814919\n",
      "YearRemodAdd_1997 :  0.05539626658570489\n",
      "YearRemodAdd_1998 :  0.05194340626256308\n",
      "YearRemodAdd_1999 :  0.04148535953901553\n",
      "YearRemodAdd_2000 :  0.013620536798486502\n",
      "YearRemodAdd_2001 :  0.014824427737794275\n",
      "YearRemodAdd_2002 :  0.07931779884790412\n",
      "YearRemodAdd_2003 :  0.03348096713838252\n",
      "YearRemodAdd_2004 :  0.03766071367770606\n",
      "YearRemodAdd_2005 :  0.08557158267093197\n",
      "YearRemodAdd_2006 :  0.16308817900728204\n",
      "YearRemodAdd_2007 :  0.1294974298046544\n",
      "YearRemodAdd_2008 :  0.18764434959930618\n",
      "YearRemodAdd_2009 :  0.16434647477126096\n",
      "YearRemodAdd_2010 :  0.12622100677725884\n",
      "RoofMatl_ClyTile :  -0.006896912615805739\n",
      "RoofMatl_CompShg :  -0.10450516998584031\n",
      "RoofMatl_Membran :  0.01997049884253312\n",
      "RoofMatl_Metal :  -0.00030368281007855767\n",
      "RoofMatl_Roll :  -0.01447912689239202\n",
      "RoofMatl_Tar&Grv :  0.0049208112142087096\n",
      "RoofMatl_WdShake :  0.04464291700440552\n",
      "RoofMatl_WdShngl :  0.1693239058020826\n",
      "Exterior1st_AsbShng :  -0.1091258216420074\n",
      "Exterior1st_AsphShn :  -0.026676602032987568\n",
      "Exterior1st_BrkComm :  -0.05126412441056307\n",
      "Exterior1st_BrkFace :  0.032371390691589993\n",
      "Exterior1st_CBlock :  -0.02502829458155547\n",
      "Exterior1st_CemntBd :  0.1334917623503356\n",
      "Exterior1st_HdBoard :  -0.09514764583955282\n",
      "Exterior1st_ImStucc :  0.026728559393403007\n",
      "Exterior1st_MetalSd :  -0.16706804265413477\n",
      "Exterior1st_Plywood :  -0.01771925649284015\n",
      "Exterior1st_Stone :  0.036180551287502985\n",
      "Exterior1st_Stucco :  -0.029802258156837767\n",
      "Exterior1st_VinylSd :  0.30500880247762746\n",
      "Exterior1st_Wd Sdng :  -0.15861908165107155\n",
      "Exterior1st_WdShing :  -0.051317406143120546\n",
      "Exterior2nd_AsbShng :  -0.09922021939101275\n",
      "Exterior2nd_AsphShn :  -0.024524407793441318\n",
      "Exterior2nd_Brk Cmn :  -0.04737690972154203\n",
      "Exterior2nd_BrkFace :  0.024758995691036425\n",
      "Exterior2nd_CBlock :  -0.02502829458155547\n",
      "Exterior2nd_CmentBd :  0.12818316002692517\n",
      "Exterior2nd_HdBoard :  -0.06786360534380863\n",
      "Exterior2nd_ImStucc :  0.0744011189529748\n",
      "Exterior2nd_MetalSd :  -0.16238867058442932\n",
      "Exterior2nd_Other :  0.04551926433972633\n",
      "Exterior2nd_Plywood :  -0.05294086897596985\n",
      "Exterior2nd_Stone :  -0.016753527668945715\n",
      "Exterior2nd_Stucco :  -0.04241569231469932\n",
      "Exterior2nd_VinylSd :  0.3063888808714848\n",
      "Exterior2nd_Wd Sdng :  -0.1618004951731797\n",
      "Exterior2nd_Wd Shng :  -0.04032943564551994\n",
      "MasVnrType_BrkCmn :  -0.044393863680548006\n",
      "MasVnrType_BrkFace :  0.1981912062006368\n",
      "MasVnrType_None :  -0.367456365193253\n",
      "MasVnrType_Stone :  0.3304756465434077\n",
      "Foundation_BrkTil :  -0.20411736578270182\n",
      "Foundation_CBlock :  -0.34326299944465\n",
      "Foundation_Slab :  -0.11974016023648001\n",
      "Foundation_Stone :  -0.01210263077585328\n",
      "Foundation_Wood :  0.0027114775829150265\n",
      "Heating_Floor :  -0.03574229301586219\n",
      "Heating_GasA :  0.0925289131630417\n",
      "Heating_GasW :  -0.020102599035433592\n",
      "Heating_Grav :  -0.09233803351104634\n",
      "Heating_OthW :  -0.02573027910672783\n",
      "Heating_Wall :  -0.0586221561490979\n",
      "CentralAir_N :  -0.25132816384015727\n",
      "CentralAir_Y :  0.2513281638401573\n",
      "Electrical_FuseA :  -0.19397792356662585\n",
      "Electrical_FuseF :  -0.12660098635768133\n",
      "Electrical_FuseP :  -0.047760617694948077\n",
      "Electrical_Mix :  -0.03755543121243804\n",
      "Electrical_SBrkr :  0.24235702166420695\n",
      "Functional_Maj1 :  -0.03341995349143347\n",
      "Functional_Maj2 :  -0.07021447788221276\n",
      "Functional_Min1 :  -0.06405145656743241\n",
      "Functional_Min2 :  -0.07132000820499285\n",
      "Functional_Mod :  -0.01607254127138059\n",
      "Functional_Sev :  -0.017116418814683152\n",
      "Functional_Typ :  0.1164620402180041\n",
      "GarageType_2Types :  -0.02397376065437426\n",
      "GarageType_Attchd :  0.3359606472095476\n",
      "GarageType_Basment :  -0.029424968522137\n",
      "GarageType_BuiltIn :  0.23544865016730615\n",
      "GarageType_CarPort :  -0.07037062648692732\n",
      "GarageType_Detchd :  -0.3541407884127012\n",
      "GarageType_NA :  -0.2368317118200457\n",
      "PavedDrive_N :  -0.21262978253141168\n",
      "PavedDrive_P :  -0.08862292093317181\n",
      "PavedDrive_Y :  0.23196803451041761\n",
      "MiscFeature_Gar2 :  -0.004743556939191924\n",
      "MiscFeature_NA :  0.07229811288612362\n",
      "MiscFeature_Othr :  -0.04053757752493366\n",
      "MiscFeature_Shed :  -0.06977143454737483\n",
      "MiscFeature_TenC :  0.02277262150996658\n",
      "MoSold_1 :  0.005980457462011775\n",
      "MoSold_2 :  -0.007354529617364088\n",
      "MoSold_3 :  0.008218710540249936\n",
      "MoSold_4 :  -0.03877382453986061\n",
      "MoSold_5 :  -0.043713670898706175\n",
      "MoSold_6 :  -0.02032442970778237\n",
      "MoSold_7 :  0.02976154923679875\n",
      "MoSold_8 :  0.014185025824275043\n",
      "MoSold_9 :  0.039474209699339076\n",
      "MoSold_10 :  -0.004354335279267226\n",
      "MoSold_11 :  0.03400130358128921\n",
      "MoSold_12 :  0.014464981029118428\n",
      "YrSold_2006 :  0.010732301265509548\n",
      "YrSold_2007 :  0.03492133784614922\n",
      "YrSold_2008 :  -0.022990440613435737\n",
      "YrSold_2009 :  -0.010291517451967843\n",
      "YrSold_2010 :  -0.016392040045442605\n",
      "SaleType_COD :  -0.08104671129791155\n",
      "SaleType_CWD :  0.019588066467574435\n",
      "SaleType_Con :  0.041357276088828436\n",
      "SaleType_ConLD :  -0.041790840641079345\n",
      "SaleType_ConLI :  0.014371054765972273\n",
      "SaleType_ConLw :  -0.027475125928901712\n",
      "SaleType_New :  0.35750940508319695\n",
      "SaleType_Oth :  -0.034894994917515354\n",
      "SaleType_WD :  -0.2425975172729481\n",
      "SaleCondition_Abnorml :  -0.11806923061460167\n",
      "SaleCondition_AdjLand :  -0.050685633558671804\n",
      "SaleCondition_Alloca :  -0.015525374015420043\n",
      "SaleCondition_Family :  -0.04648019603234449\n",
      "SaleCondition_Normal :  -0.15398979048536723\n",
      "SaleCondition_Partial :  0.35205985467143425\n",
      "_TotalConditions :  0.3099336319618246\n",
      "_Rel_LivAreaOverLotArea :  -0.00241644080045477\n"
     ]
    }
   ],
   "source": [
    "util_m.print_weak_correlations(datatrain, 'SalePrice', 0.4)"
   ]
  },
  {
   "cell_type": "code",
   "execution_count": 28,
   "metadata": {},
   "outputs": [],
   "source": [
    "def my_remove_weak_correlations(df1: pd.DataFrame, df2, col_to_correlate: str, y, skip: list=[], weak_threshold: float = 0.1) -> (pd.DataFrame, pd.DataFrame):\n",
    "    \"\"\"\n",
    "    Removes weak correlations\n",
    "    :param df: pandas DataFrame to remove columns from.\n",
    "    :param col_to_correlate: String column name to check correlation with\n",
    "    :param weak_threshold: float number that counts as an absolute weak threshold\n",
    "    :return: pandas DataFrame without the columns weakly correlated to target\n",
    "    \"\"\"\n",
    "#     col_to_correlate = 'PREDICTOR_TO_CHECK_WEAK_CORRS'\n",
    "    df1[col_to_correlate] = y\n",
    "    cols = df1[df1.columns].corr().columns\n",
    "    corrs = df1[df1.columns].corr()[col_to_correlate]\n",
    "    strongly_correlated = list()\n",
    "    for col, corr in zip(cols, corrs):\n",
    "        if abs(corr) >= weak_threshold and col != col_to_correlate:\n",
    "            strongly_correlated.append(col)\n",
    "    df1 = df1.drop(columns=[col_to_correlate])\n",
    "    for col in df1.columns:\n",
    "        if col not in strongly_correlated and col not in skip:\n",
    "            df1.drop(columns=[col], inplace=True)\n",
    "            df2.drop(columns=[col], inplace=True)\n",
    "    return df1, df2"
   ]
  },
  {
   "cell_type": "code",
   "execution_count": 29,
   "metadata": {},
   "outputs": [
    {
     "name": "stderr",
     "output_type": "stream",
     "text": [
      "/Library/Frameworks/Python.framework/Versions/3.7/lib/python3.7/site-packages/pandas/core/frame.py:3940: SettingWithCopyWarning: \n",
      "A value is trying to be set on a copy of a slice from a DataFrame\n",
      "\n",
      "See the caveats in the documentation: http://pandas.pydata.org/pandas-docs/stable/indexing.html#indexing-view-versus-copy\n",
      "  errors=errors)\n",
      "/Library/Frameworks/Python.framework/Versions/3.7/lib/python3.7/site-packages/ipykernel_launcher.py:10: SettingWithCopyWarning: \n",
      "A value is trying to be set on a copy of a slice from a DataFrame.\n",
      "Try using .loc[row_indexer,col_indexer] = value instead\n",
      "\n",
      "See the caveats in the documentation: http://pandas.pydata.org/pandas-docs/stable/indexing.html#indexing-view-versus-copy\n",
      "  # Remove the CWD from sys.path while we load stuff.\n"
     ]
    }
   ],
   "source": [
    "Y = datatrain['SalePrice']\n",
    "datatrain.drop(columns=['SalePrice'], inplace=True)\n",
    "datatrain, datatest = my_remove_weak_correlations(datatrain, datatest, 'SalePrice', Y, ['Id'])"
   ]
  },
  {
   "cell_type": "code",
   "execution_count": null,
   "metadata": {},
   "outputs": [],
   "source": []
  },
  {
   "cell_type": "code",
   "execution_count": 30,
   "metadata": {},
   "outputs": [],
   "source": [
    "datatrain = pd.concat([datatrain, Y], axis=1)"
   ]
  },
  {
   "cell_type": "code",
   "execution_count": 31,
   "metadata": {},
   "outputs": [
    {
     "data": {
      "text/plain": [
       "((1460, 127), (1459, 126))"
      ]
     },
     "execution_count": 31,
     "metadata": {},
     "output_type": "execute_result"
    }
   ],
   "source": [
    "datatrain.shape, datatest.shape"
   ]
  },
  {
   "cell_type": "markdown",
   "metadata": {},
   "source": [
    "## 4 Outliers in the training set?"
   ]
  },
  {
   "cell_type": "code",
   "execution_count": 32,
   "metadata": {},
   "outputs": [
    {
     "data": {
      "image/png": "[encoded data removed]",
      "text/plain": [
       "<Figure size 576x576 with 1 Axes>"
      ]
     },
     "metadata": {
      "needs_background": "light"
     },
     "output_type": "display_data"
    }
   ],
   "source": [
    "util_m.plot_relationship(datatrain, 'LotFrontage', 'SalePrice')"
   ]
  },
  {
   "cell_type": "code",
   "execution_count": 33,
   "metadata": {},
   "outputs": [],
   "source": [
    "datatrain.drop( datatrain[ datatrain['LotFrontage'] > 250 ].index, inplace=True )"
   ]
  },
  {
   "cell_type": "markdown",
   "metadata": {},
   "source": [
    "***"
   ]
  },
  {
   "cell_type": "code",
   "execution_count": 34,
   "metadata": {},
   "outputs": [
    {
     "data": {
      "image/png": "[encoded data removed]",
      "text/plain": [
       "<Figure size 576x576 with 1 Axes>"
      ]
     },
     "metadata": {
      "needs_background": "light"
     },
     "output_type": "display_data"
    }
   ],
   "source": [
    "util_m.plot_relationship(datatrain, 'LotArea', 'SalePrice')"
   ]
  },
  {
   "cell_type": "code",
   "execution_count": 35,
   "metadata": {},
   "outputs": [],
   "source": [
    "datatrain.drop( datatrain[ datatrain['LotArea'] > 50000 ].index, inplace=True )"
   ]
  },
  {
   "cell_type": "markdown",
   "metadata": {},
   "source": [
    "***"
   ]
  },
  {
   "cell_type": "code",
   "execution_count": 36,
   "metadata": {},
   "outputs": [
    {
     "data": {
      "image/png": "[encoded data removed]",
      "text/plain": [
       "<Figure size 576x576 with 1 Axes>"
      ]
     },
     "metadata": {
      "needs_background": "light"
     },
     "output_type": "display_data"
    }
   ],
   "source": [
    "util_m.plot_relationship(datatrain, 'OverallQual', 'SalePrice')"
   ]
  },
  {
   "cell_type": "code",
   "execution_count": 37,
   "metadata": {},
   "outputs": [],
   "source": [
    "# util_m.plot_relationship(datatrain, 'OverallCond', 'SalePrice')"
   ]
  },
  {
   "cell_type": "code",
   "execution_count": 38,
   "metadata": {},
   "outputs": [
    {
     "data": {
      "image/png": "[encoded data removed]",
      "text/plain": [
       "<Figure size 576x576 with 1 Axes>"
      ]
     },
     "metadata": {
      "needs_background": "light"
     },
     "output_type": "display_data"
    }
   ],
   "source": [
    "util_m.plot_relationship(datatrain, 'MasVnrArea', 'SalePrice')"
   ]
  },
  {
   "cell_type": "code",
   "execution_count": null,
   "metadata": {},
   "outputs": [],
   "source": []
  },
  {
   "cell_type": "code",
   "execution_count": null,
   "metadata": {},
   "outputs": [],
   "source": []
  },
  {
   "cell_type": "markdown",
   "metadata": {},
   "source": [
    "## 5 Box cox transform numerical features to adjust skewness\n",
    "\n",
    "- Don't adjust skewness on the Ids and SalePrice!!"
   ]
  },
  {
   "cell_type": "code",
   "execution_count": 39,
   "metadata": {},
   "outputs": [],
   "source": [
    "Y = datatrain['SalePrice']\n",
    "trainid = datatrain['Id']\n",
    "testid = datatest['Id']\n",
    "\n",
    "datatrain.drop(columns=['SalePrice', 'Id'], inplace=True)\n",
    "datatest.drop(columns=['Id'], inplace=True)"
   ]
  },
  {
   "cell_type": "code",
   "execution_count": 40,
   "metadata": {},
   "outputs": [
    {
     "data": {
      "text/plain": [
       "((1448, 125), (1459, 125))"
      ]
     },
     "execution_count": 40,
     "metadata": {},
     "output_type": "execute_result"
    }
   ],
   "source": [
    "datatrain.shape, datatest.shape"
   ]
  },
  {
   "cell_type": "code",
   "execution_count": 41,
   "metadata": {},
   "outputs": [],
   "source": [
    "util_m.adjust_skewness(datatrain)\n",
    "util_m.adjust_skewness(datatest);"
   ]
  },
  {
   "cell_type": "code",
   "execution_count": 43,
   "metadata": {},
   "outputs": [],
   "source": [
    "datatrain = pd.concat([trainid, datatrain, Y], axis=1)\n",
    "datatest = pd.concat([testid, datatest], axis=1)"
   ]
  },
  {
   "cell_type": "code",
   "execution_count": null,
   "metadata": {},
   "outputs": [],
   "source": []
  },
  {
   "cell_type": "markdown",
   "metadata": {},
   "source": [
    "# Save file for modeling"
   ]
  },
  {
   "cell_type": "code",
   "execution_count": 44,
   "metadata": {},
   "outputs": [],
   "source": [
    "datatrain.to_csv('./data/cleaner_train.csv', index=False)\n",
    "datatest.to_csv('./data/cleaner_test.csv', index=False)"
   ]
  },
  {
   "cell_type": "code",
   "execution_count": null,
   "metadata": {},
   "outputs": [],
   "source": []
  }
 ],
 "metadata": {
  "kernelspec": {
   "display_name": "Python 3",
   "language": "python",
   "name": "python3"
  },
  "language_info": {
   "codemirror_mode": {
    "name": "ipython",
    "version": 3
   },
   "file_extension": ".py",
   "mimetype": "text/x-python",
   "name": "python",
   "nbconvert_exporter": "python",
   "pygments_lexer": "ipython3",
   "version": "3.7.2"
  }
 },
 "nbformat": 4,
 "nbformat_minor": 2
}
