{
 "cells": [
  {
   "cell_type": "code",
   "execution_count": 1,
   "metadata": {},
   "outputs": [],
   "source": [
    "import warnings\n",
    "warnings.filterwarnings(\"ignore\", category=FutureWarning)\n",
    "warnings.filterwarnings(\"ignore\", category=UserWarning)"
   ]
  },
  {
   "cell_type": "code",
   "execution_count": 2,
   "metadata": {},
   "outputs": [],
   "source": [
    "import pandas as pd\n",
    "import numpy as np\n",
    "import matplotlib.pyplot as plt\n",
    "%matplotlib inline\n",
    "import seaborn as sns\n",
    "\n",
    "import util_michael as util_m\n",
    "from util import *\n",
    "\n",
    "from sklearn.model_selection import train_test_split\n",
    "from sklearn.metrics import mean_squared_error, r2_score, accuracy_score\n",
    "from sklearn.model_selection import GridSearchCV\n",
    "import lightgbm as lgb\n",
    "import xgboost as xgb"
   ]
  },
  {
   "cell_type": "code",
   "execution_count": 3,
   "metadata": {},
   "outputs": [
    {
     "data": {
      "text/plain": [
       "((1448, 126), (1459, 126), (1448,))"
      ]
     },
     "execution_count": 3,
     "metadata": {},
     "output_type": "execute_result"
    }
   ],
   "source": [
    "train = pd.read_csv('./data/cleaner_train.csv', na_filter=False) \n",
    "test = pd.read_csv('./data/cleaner_test.csv', na_filter=False)\n",
    "Y = train['SalePrice']\n",
    "train.drop(columns=['SalePrice'], inplace=True)\n",
    "train.shape, test.shape, Y.shape"
   ]
  },
  {
   "cell_type": "code",
   "execution_count": 4,
   "metadata": {},
   "outputs": [],
   "source": [
    "X = np.array(train.drop(columns=['Id']))\n",
    "Xt = np.array(test.drop(columns=['Id']))\n",
    "Y = np.log(np.array(Y))"
   ]
  },
  {
   "cell_type": "code",
   "execution_count": 5,
   "metadata": {},
   "outputs": [],
   "source": [
    "Xscale, Xtscale = util_m.apply_scale(X, Xt)"
   ]
  },
  {
   "cell_type": "markdown",
   "metadata": {},
   "source": [
    "## PCA"
   ]
  },
  {
   "cell_type": "code",
   "execution_count": 6,
   "metadata": {},
   "outputs": [
    {
     "name": "stdout",
     "output_type": "stream",
     "text": [
      "Num of components\tCumulative sum\n",
      "83 \t\t\t 0.976789994711532\n",
      "84 \t\t\t 0.978573532144838\n",
      "85 \t\t\t 0.9802498162536578\n",
      "86 \t\t\t 0.9818462094488191\n",
      "87 \t\t\t 0.9832744775468437\n",
      "88 \t\t\t 0.984673723698439\n",
      "89 \t\t\t 0.986008417589342\n",
      "90 \t\t\t 0.9873179764733694\n",
      "91 \t\t\t 0.9885890267903121\n",
      "92 \t\t\t 0.9896829015386821\n",
      "93 \t\t\t 0.9906913181947847\n"
     ]
    }
   ],
   "source": [
    "from sklearn.decomposition import PCA\n",
    "def _eval_components(Z: np.array, comps: set=None):\n",
    "    if comps is None: \n",
    "        comp_from = 1\n",
    "        comp_to = Z.shape[1]\n",
    "    else:\n",
    "        comp_from = comps[0]\n",
    "        comp_to = comps[1]\n",
    "    print('Num of components\\tCumulative sum')\n",
    "    for i in range(comp_from, comp_to, 1):\n",
    "        pca = PCA(n_components=i).fit(Z)\n",
    "        # print('Variance ratio = ', pca.explained_variance_ratio_)\n",
    "        print(pca.n_components_, '\\t\\t\\t', sum(pca.explained_variance_ratio_))\n",
    "\n",
    "_eval_components(Xscale, (83, 94))"
   ]
  },
  {
   "cell_type": "code",
   "execution_count": 7,
   "metadata": {},
   "outputs": [],
   "source": [
    "pca = PCA(n_components=84).fit(Xscale)\n",
    "Xpca = pca.transform(Xscale)\n",
    "Xtpca = pca.transform(Xtscale)"
   ]
  },
  {
   "cell_type": "markdown",
   "metadata": {},
   "source": [
    "# Modelling"
   ]
  },
  {
   "cell_type": "code",
   "execution_count": 8,
   "metadata": {},
   "outputs": [],
   "source": [
    "def evaluate_regressor(model, X, Y, name=None, nruns=200, other_metric=None):\n",
    "    r2, mse, extra = [], [], []\n",
    "    for j in range(nruns):\n",
    "        xtrain, xtest, ytrain, ytest = train_test_split(X, Y)\n",
    "        model.fit(xtrain, ytrain)\n",
    "        YP = model.predict(xtest)\n",
    "        r2.append(r2_score(YP, ytest))\n",
    "        mse.append(mean_squared_error(YP, ytest))\n",
    "        if other_metric!=None:\n",
    "            keep_positives = YP >= 0\n",
    "            extra.append(other_metric['call'](YP[keep_positives], ytest[keep_positives]))\n",
    "    print(\"Runs:\\t\\t\", nruns)\n",
    "    print(\"Mean R2:\\t\", np.mean(r2), \"\\nSTD R2:\\t\\t\", np.std(r2))\n",
    "    print(\"Mean MSE:\\t\", np.mean(mse), \"\\nSTD MSE:\\t\", np.std(mse))\n",
    "    if other_metric!=None: print(other_metric['name']+\":\\t\\t\", np.mean(extra))\n",
    "    plt.hist(r2)\n",
    "    plt.title(\"R2 Histogram - \"+name)\n",
    "    plt.xlim(0, 1)\n",
    "    \n",
    "def show_grid_results(grid_search, all=True):\n",
    "    print('Best parameters:\\n', grid_search.best_params_, '\\n', grid_search.best_score_, '\\n')\n",
    "    if all:\n",
    "        cvres = grid_search.cv_results_\n",
    "        for mean_score, params in zip(cvres[\"mean_test_score\"], cvres[\"params\"]):\n",
    "            print(mean_score, params)"
   ]
  },
  {
   "cell_type": "markdown",
   "metadata": {},
   "source": [
    "## RandomForest"
   ]
  },
  {
   "cell_type": "code",
   "execution_count": 9,
   "metadata": {},
   "outputs": [
    {
     "name": "stdout",
     "output_type": "stream",
     "text": [
      "Best parameters:\n",
      " {'bootstrap': True, 'criterion': 'mse', 'max_features': 'auto', 'max_leaf_nodes': None, 'n_estimators': 'warn'} \n",
      " -0.02014909054683932 \n",
      "\n",
      "-0.02014909054683932 {'bootstrap': True, 'criterion': 'mse', 'max_features': 'auto', 'max_leaf_nodes': None, 'n_estimators': 'warn'}\n"
     ]
    }
   ],
   "source": [
    "from sklearn.ensemble import RandomForestRegressor\n",
    "param_grid = [\n",
    "    {\n",
    "        'bootstrap': [True], 'criterion': ['mse'], 'max_features': ['auto'], \n",
    "        'n_estimators':['warn'], 'max_leaf_nodes': [None],\n",
    "#         'max_depth': None,\n",
    "    }\n",
    "]\n",
    "model = RandomForestRegressor()\n",
    "grid_search = GridSearchCV(model, param_grid, cv=10, scoring='neg_mean_squared_error', return_train_score=True)\n",
    "grid_search.fit(Xscale, Y)\n",
    "show_grid_results(grid_search)"
   ]
  },
  {
   "cell_type": "code",
   "execution_count": null,
   "metadata": {},
   "outputs": [],
   "source": []
  },
  {
   "cell_type": "code",
   "execution_count": null,
   "metadata": {},
   "outputs": [],
   "source": []
  },
  {
   "cell_type": "code",
   "execution_count": null,
   "metadata": {},
   "outputs": [],
   "source": []
  },
  {
   "cell_type": "code",
   "execution_count": 10,
   "metadata": {},
   "outputs": [],
   "source": [
    "best_model = grid_search.best_estimator_"
   ]
  },
  {
   "cell_type": "markdown",
   "metadata": {},
   "source": [
    "# Predict the test data"
   ]
  },
  {
   "cell_type": "code",
   "execution_count": 11,
   "metadata": {},
   "outputs": [],
   "source": [
    "Yt = np.power(np.e, best_model.predict(Xtscale))"
   ]
  },
  {
   "cell_type": "code",
   "execution_count": 14,
   "metadata": {},
   "outputs": [
    {
     "data": {
      "text/plain": [
       "(1459, 2)"
      ]
     },
     "execution_count": 14,
     "metadata": {},
     "output_type": "execute_result"
    }
   ],
   "source": [
    "output = pd.concat([test['Id'], pd.Series(Yt)], axis=1)\n",
    "output.columns=['Id', 'SalePrice']\n",
    "output.shape"
   ]
  },
  {
   "cell_type": "code",
   "execution_count": 15,
   "metadata": {},
   "outputs": [
    {
     "data": {
      "text/html": [
       "<div>\n",
       "<style scoped>\n",
       "    .dataframe tbody tr th:only-of-type {\n",
       "        vertical-align: middle;\n",
       "    }\n",
       "\n",
       "    .dataframe tbody tr th {\n",
       "        vertical-align: top;\n",
       "    }\n",
       "\n",
       "    .dataframe thead th {\n",
       "        text-align: right;\n",
       "    }\n",
       "</style>\n",
       "<table border=\"1\" class=\"dataframe\">\n",
       "  <thead>\n",
       "    <tr style=\"text-align: right;\">\n",
       "      <th></th>\n",
       "      <th>Id</th>\n",
       "      <th>SalePrice</th>\n",
       "    </tr>\n",
       "  </thead>\n",
       "  <tbody>\n",
       "    <tr>\n",
       "      <th>0</th>\n",
       "      <td>1461</td>\n",
       "      <td>128317.437381</td>\n",
       "    </tr>\n",
       "    <tr>\n",
       "      <th>1</th>\n",
       "      <td>1462</td>\n",
       "      <td>150205.614372</td>\n",
       "    </tr>\n",
       "    <tr>\n",
       "      <th>2</th>\n",
       "      <td>1463</td>\n",
       "      <td>186796.264185</td>\n",
       "    </tr>\n",
       "    <tr>\n",
       "      <th>3</th>\n",
       "      <td>1464</td>\n",
       "      <td>190228.334889</td>\n",
       "    </tr>\n",
       "    <tr>\n",
       "      <th>4</th>\n",
       "      <td>1465</td>\n",
       "      <td>198984.399836</td>\n",
       "    </tr>\n",
       "  </tbody>\n",
       "</table>\n",
       "</div>"
      ],
      "text/plain": [
       "     Id      SalePrice\n",
       "0  1461  128317.437381\n",
       "1  1462  150205.614372\n",
       "2  1463  186796.264185\n",
       "3  1464  190228.334889\n",
       "4  1465  198984.399836"
      ]
     },
     "execution_count": 15,
     "metadata": {},
     "output_type": "execute_result"
    }
   ],
   "source": [
    "output.head()"
   ]
  },
  {
   "cell_type": "code",
   "execution_count": 17,
   "metadata": {},
   "outputs": [],
   "source": [
    "import datetime\n",
    "x = datetime.datetime.now()\n",
    "_result_file = 'results/result_'+x.strftime(\"%b-%d %H %M %S\")+'.csv'\n",
    "output.to_csv(_result_file, index=False)"
   ]
  },
  {
   "cell_type": "markdown",
   "metadata": {},
   "source": [
    "    06/29 First try\n",
    "        Kaggle Score 0.15143 with 126 columns using RandomForest (without intensive search of best params/modeling)\n",
    "       "
   ]
  },
  {
   "cell_type": "code",
   "execution_count": null,
   "metadata": {},
   "outputs": [],
   "source": []
  }
 ],
 "metadata": {
  "kernelspec": {
   "display_name": "Python 3",
   "language": "python",
   "name": "python3"
  },
  "language_info": {
   "codemirror_mode": {
    "name": "ipython",
    "version": 3
   },
   "file_extension": ".py",
   "mimetype": "text/x-python",
   "name": "python",
   "nbconvert_exporter": "python",
   "pygments_lexer": "ipython3",
   "version": "3.7.2"
  }
 },
 "nbformat": 4,
 "nbformat_minor": 2
}
